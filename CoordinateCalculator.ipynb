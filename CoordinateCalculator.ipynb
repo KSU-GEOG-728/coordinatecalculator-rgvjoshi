{
 "cells": [
  {
   "cell_type": "markdown",
   "id": "1b31be22",
   "metadata": {},
   "source": [
    "# Geographic Coordinate Converter\n",
    "\n",
    "Converts a geographic coordinate in DDMMSS format to DD"
   ]
  },
  {
   "cell_type": "markdown",
   "id": "220c42ad",
   "metadata": {},
   "source": [
    "Step 1 - Use the Python input function to prompt a user to enter a geographic coordinate in DDMMSS format (e.g., 391120)."
   ]
  },
  {
   "cell_type": "code",
   "execution_count": 24,
   "id": "16f5440b",
   "metadata": {},
   "outputs": [
    {
     "name": "stdout",
     "output_type": "stream",
     "text": [
      "The entered coordinate is: 391144\n"
     ]
    }
   ],
   "source": [
    "# Code to input only a 6-digit number which is in DDMMSS format.\n",
    "while True:\n",
    "    x = input(\"Please enter a 6-digit geographic coordinate in DDMMSS format (e.g., 391120): \")\n",
    "    \n",
    "    if x.isdigit() and len(x) == 6:\n",
    "        x_int = int(x)\n",
    "        print(\"The entered coordinate is:\", x_int)\n",
    "        break\n",
    "    else:\n",
    "        print(\"Invalid input. Please make sure the coordinate is exactly 6 digits long.\")\n"
   ]
  },
  {
   "cell_type": "markdown",
   "id": "50c7e956",
   "metadata": {},
   "source": [
    "Step 2 - Determine the data type of x and print its value before moving forward."
   ]
  },
  {
   "cell_type": "code",
   "execution_count": 25,
   "id": "2a5030b7",
   "metadata": {},
   "outputs": [
    {
     "data": {
      "text/plain": [
       "int"
      ]
     },
     "execution_count": 25,
     "metadata": {},
     "output_type": "execute_result"
    }
   ],
   "source": [
    "type(x_int)"
   ]
  },
  {
   "cell_type": "markdown",
   "id": "3fcc0133",
   "metadata": {},
   "source": [
    "Step 3 - Calculate coordinates value in DD."
   ]
  },
  {
   "cell_type": "code",
   "execution_count": 26,
   "id": "884cdba3",
   "metadata": {},
   "outputs": [
    {
     "name": "stdout",
     "output_type": "stream",
     "text": [
      "Coordinates in DD are  39.20\n"
     ]
    }
   ],
   "source": [
    "# Degrees\n",
    "dd = x_int // 10000  \n",
    "# Minutes\n",
    "mm = (x_int % 10000) // 100  \n",
    "# Seconds\n",
    "ss = x_int % 100               \n",
    "# Calculate DD from degrees, minutes and seconds.\n",
    "y = dd + mm/60 + ss/3600\n",
    "# Print the final result upto 2 decimal places.\n",
    "print(\"Coordinates in DD are \", f\"{y:.2f}\")"
   ]
  }
 ],
 "metadata": {
  "kernelspec": {
   "display_name": "Python 3 (ipykernel)",
   "language": "python",
   "name": "python3"
  },
  "language_info": {
   "codemirror_mode": {
    "name": "ipython",
    "version": 3
   },
   "file_extension": ".py",
   "mimetype": "text/x-python",
   "name": "python",
   "nbconvert_exporter": "python",
   "pygments_lexer": "ipython3",
   "version": "3.11.7"
  }
 },
 "nbformat": 4,
 "nbformat_minor": 5
}
